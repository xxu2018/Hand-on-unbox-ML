{
  "nbformat": 4,
  "nbformat_minor": 0,
  "metadata": {
    "colab": {
      "provenance": [],
      "collapsed_sections": [
        "6WbzAaiN-yyY",
        "WAYA-MaCmj1_",
        "k8K_f9zYmqi4",
        "rVELGVk2ZuM9",
        "0ZHBqqVPnMRJ",
        "yUbXRGtrnbwv",
        "qhYaUlnOnW-g",
        "aH_X5yQBn_jh",
        "XJJ_xnKLoaw4"
      ]
    },
    "kernelspec": {
      "name": "python3",
      "display_name": "Python 3"
    },
    "language_info": {
      "name": "python"
    }
  },
  "cells": [
    {
      "cell_type": "markdown",
      "source": [
        "<!-- <img width=\"800px\" src=\"../fidle/img/header.svg\"></img>  -->\n",
        "\n",
        "# <!-- TITLE --> Regression with a Dense Neural Network (DNN) for Boston Housig Prices Prediction\n",
        "  <!-- AUTHOR : Jean-Luc Parouty (CNRS/SIMaP) -->\n",
        "\n",
        "## Objectives :\n",
        " - Predicts **housing prices** from a set of house features.\n",
        " - Understanding the principle and the architecture of a regression with a dense neural network with backup and restore of the trained model.\n",
        "\n",
        "The **[Boston Housing Prices Dataset](https://www.cs.toronto.edu/~delve/data/boston/bostonDetail.html)** consists of price of houses in various places in Boston.  \n",
        "Alongside with price, the dataset also provide these information :\n",
        "\n",
        " - CRIM: This is the per capita crime rate by town\n",
        " - ZN: This is the proportion of residential land zoned for lots larger than 25,000 sq.ft\n",
        " - INDUS: This is the proportion of non-retail business acres per town\n",
        " - CHAS: This is the Charles River dummy variable (this is equal to 1 if tract bounds river; 0 otherwise)\n",
        " - NOX: This is the nitric oxides concentration (parts per 10 million)\n",
        " - RM: This is the average number of rooms per dwelling\n",
        " - AGE: This is the proportion of owner-occupied units built prior to 1940\n",
        " - DIS: This is the weighted distances to five Boston employment centers\n",
        " - RAD: This is the index of accessibility to radial highways\n",
        " - TAX: This is the full-value property-tax rate per 10,000 dollars\n",
        " - PTRATIO: This is the pupil-teacher ratio by town\n",
        " - B: This is calculated as 1000(Bk — 0.63)^2, where Bk is the proportion of people of African American descent by town\n",
        " - LSTAT: This is the percentage lower status of the population\n",
        " - MEDV: This is the median value of owner-occupied homes in 1000 dollars\n",
        "\n",
        "**[Reference Notebooks](https://gricad-gitlab.univ-grenoble-alpes.fr/talks/fidle/-/tree/master/BHPD.Keras3?ref_type=heads)**\n",
        "\n",
        "## What we're going to do :\n",
        "\n",
        " - (Retrieve data)\n",
        " - (Preparing the data)\n",
        " - (Build a model)\n",
        " - Train and save the model\n",
        " - Restore saved model\n",
        " - Evaluate the model\n",
        " - Make some predictions"
      ],
      "metadata": {
        "id": "_qmPyidfgERa"
      }
    },
    {
      "cell_type": "markdown",
      "source": [
        "## 1. Import and init"
      ],
      "metadata": {
        "id": "6WbzAaiN-yyY"
      }
    },
    {
      "cell_type": "code",
      "source": [
        "import os\n",
        "os.environ['KERAS_BACKEND'] = 'torch'\n",
        "import keras\n",
        "import numpy as np\n",
        "import matplotlib.pyplot as plt\n",
        "import pandas as pd\n",
        "import sys"
      ],
      "metadata": {
        "id": "iOD95TGDgIEG"
      },
      "execution_count": null,
      "outputs": []
    },
    {
      "cell_type": "markdown",
      "source": [
        "## 2. Prepare the data\n",
        "- Split data, We will use 80% of the data for training and 20% for validation.  \n",
        "- x will be input data and y the expected output"
      ],
      "metadata": {
        "id": "WAYA-MaCmj1_"
      }
    },
    {
      "cell_type": "code",
      "source": [
        "(x_train, y_train), (x_test, y_test) = keras.datasets.boston_housing.load_data(test_split=.2, seed=113)"
      ],
      "metadata": {
        "id": "cdApGa2GgJ4D",
        "colab": {
          "base_uri": "https://localhost:8080/"
        },
        "outputId": "dffd42ab-64c1-4d88-acc2-b2dc77a26803"
      },
      "execution_count": null,
      "outputs": [
        {
          "output_type": "stream",
          "name": "stdout",
          "text": [
            "Downloading data from https://storage.googleapis.com/tensorflow/tf-keras-datasets/boston_housing.npz\n",
            "\u001b[1m57026/57026\u001b[0m \u001b[32m━━━━━━━━━━━━━━━━━━━━\u001b[0m\u001b[37m\u001b[0m \u001b[1m0s\u001b[0m 0us/step\n"
          ]
        }
      ]
    },
    {
      "cell_type": "code",
      "source": [
        "print('x_train : ',x_train.shape, 'y_train : ',y_train.shape)\n",
        "print('x_test  : ',x_test.shape,  'y_test  : ',y_test.shape)"
      ],
      "metadata": {
        "colab": {
          "base_uri": "https://localhost:8080/"
        },
        "id": "GR5-9jpzgLow",
        "outputId": "b8cd719a-4d95-41f6-d747-ca437a73e91b"
      },
      "execution_count": null,
      "outputs": [
        {
          "output_type": "stream",
          "name": "stdout",
          "text": [
            "x_train :  (404, 13) y_train :  (404,)\n",
            "x_test  :  (102, 13) y_test  :  (102,)\n"
          ]
        }
      ]
    },
    {
      "cell_type": "markdown",
      "source": [
        "## 3. Data normalization\n",
        "**Note :**\n",
        " - All input data must be normalized, train and test.  \n",
        " - To do this we will subtract the mean and divide by the standard deviation.  \n",
        " - But test data should not be used in any way, even for normalization.  \n",
        " - The mean and the standard deviation will therefore only be calculated with the train data."
      ],
      "metadata": {
        "id": "k8K_f9zYmqi4"
      }
    },
    {
      "cell_type": "code",
      "source": [
        "mean = x_train.mean()\n",
        "std  = x_train.std()\n",
        "x_train = (x_train - mean) / std\n",
        "x_test  = (x_test  - mean) / std\n",
        "\n",
        "x_train, y_train = np.array(x_train), np.array(y_train)\n",
        "x_test,  y_test  = np.array(x_test),  np.array(y_test)"
      ],
      "metadata": {
        "id": "Tf25G6-bgNeP"
      },
      "execution_count": null,
      "outputs": []
    },
    {
      "cell_type": "markdown",
      "source": [
        "## 4. Build a model\n",
        "More informations about :\n",
        " - [Optimizer](https://keras.io/api/optimizers)\n",
        " - [Activation](https://keras.io/api/layers/activations)\n",
        " - [Loss](https://keras.io/api/losses)\n",
        " - [Metrics](https://keras.io/api/metrics)"
      ],
      "metadata": {
        "id": "rVELGVk2ZuM9"
      }
    },
    {
      "cell_type": "code",
      "source": [
        "def get_model_v1(shape):\n",
        "\n",
        "  model = keras.models.Sequential()\n",
        "  model.add(keras.layers.Input(shape, name=\"InputLayer\"))\n",
        "  model.add(keras.layers.Dense(128, activation='relu', name='Dense_n1'))\n",
        "  model.add(keras.layers.Dense(64, activation='relu', name='Dense_n2'))\n",
        "  #model.add(keras.layers.Dense(64, activation=keras.layers.ELU(alpha=1.0), name='Dense_n2'))\n",
        "  model.add(keras.layers.Dense(1, name='Output'))\n",
        "\n",
        "  model.compile(optimizer = 'rmsprop',\n",
        "                loss      = 'mse',\n",
        "                metrics   = ['mae', 'mse'] )\n",
        "  return model"
      ],
      "metadata": {
        "id": "cwnPkSUdhHPi"
      },
      "execution_count": null,
      "outputs": []
    },
    {
      "cell_type": "code",
      "source": [
        "model=get_model_v1( (13,) )\n",
        "\n",
        "model.summary()"
      ],
      "metadata": {
        "colab": {
          "base_uri": "https://localhost:8080/"
        },
        "id": "5W0iKJwchVSC",
        "outputId": "792dfa4c-f1e3-4f27-a5b4-3710cdc77536"
      },
      "execution_count": null,
      "outputs": [
        {
          "output_type": "display_data",
          "data": {
            "text/plain": [
              "\u001b[1mModel: \"sequential\"\u001b[0m\n"
            ],
            "text/html": [
              "<pre style=\"white-space:pre;overflow-x:auto;line-height:normal;font-family:Menlo,'DejaVu Sans Mono',consolas,'Courier New',monospace\"><span style=\"font-weight: bold\">Model: \"sequential\"</span>\n",
              "</pre>\n"
            ]
          },
          "metadata": {}
        },
        {
          "output_type": "display_data",
          "data": {
            "text/plain": [
              "┏━━━━━━━━━━━━━━━━━━━━━━━━━━━━━━━━━━━━━━┳━━━━━━━━━━━━━━━━━━━━━━━━━━━━━┳━━━━━━━━━━━━━━━━━┓\n",
              "┃\u001b[1m \u001b[0m\u001b[1mLayer (type)                        \u001b[0m\u001b[1m \u001b[0m┃\u001b[1m \u001b[0m\u001b[1mOutput Shape               \u001b[0m\u001b[1m \u001b[0m┃\u001b[1m \u001b[0m\u001b[1m        Param #\u001b[0m\u001b[1m \u001b[0m┃\n",
              "┡━━━━━━━━━━━━━━━━━━━━━━━━━━━━━━━━━━━━━━╇━━━━━━━━━━━━━━━━━━━━━━━━━━━━━╇━━━━━━━━━━━━━━━━━┩\n",
              "│ Dense_n1 (\u001b[38;5;33mDense\u001b[0m)                     │ (\u001b[38;5;45mNone\u001b[0m, \u001b[38;5;34m128\u001b[0m)                 │           \u001b[38;5;34m1,792\u001b[0m │\n",
              "├──────────────────────────────────────┼─────────────────────────────┼─────────────────┤\n",
              "│ Dense_n2 (\u001b[38;5;33mDense\u001b[0m)                     │ (\u001b[38;5;45mNone\u001b[0m, \u001b[38;5;34m64\u001b[0m)                  │           \u001b[38;5;34m8,256\u001b[0m │\n",
              "├──────────────────────────────────────┼─────────────────────────────┼─────────────────┤\n",
              "│ Output (\u001b[38;5;33mDense\u001b[0m)                       │ (\u001b[38;5;45mNone\u001b[0m, \u001b[38;5;34m1\u001b[0m)                   │              \u001b[38;5;34m65\u001b[0m │\n",
              "└──────────────────────────────────────┴─────────────────────────────┴─────────────────┘\n"
            ],
            "text/html": [
              "<pre style=\"white-space:pre;overflow-x:auto;line-height:normal;font-family:Menlo,'DejaVu Sans Mono',consolas,'Courier New',monospace\">┏━━━━━━━━━━━━━━━━━━━━━━━━━━━━━━━━━━━━━━┳━━━━━━━━━━━━━━━━━━━━━━━━━━━━━┳━━━━━━━━━━━━━━━━━┓\n",
              "┃<span style=\"font-weight: bold\"> Layer (type)                         </span>┃<span style=\"font-weight: bold\"> Output Shape                </span>┃<span style=\"font-weight: bold\">         Param # </span>┃\n",
              "┡━━━━━━━━━━━━━━━━━━━━━━━━━━━━━━━━━━━━━━╇━━━━━━━━━━━━━━━━━━━━━━━━━━━━━╇━━━━━━━━━━━━━━━━━┩\n",
              "│ Dense_n1 (<span style=\"color: #0087ff; text-decoration-color: #0087ff\">Dense</span>)                     │ (<span style=\"color: #00d7ff; text-decoration-color: #00d7ff\">None</span>, <span style=\"color: #00af00; text-decoration-color: #00af00\">128</span>)                 │           <span style=\"color: #00af00; text-decoration-color: #00af00\">1,792</span> │\n",
              "├──────────────────────────────────────┼─────────────────────────────┼─────────────────┤\n",
              "│ Dense_n2 (<span style=\"color: #0087ff; text-decoration-color: #0087ff\">Dense</span>)                     │ (<span style=\"color: #00d7ff; text-decoration-color: #00d7ff\">None</span>, <span style=\"color: #00af00; text-decoration-color: #00af00\">64</span>)                  │           <span style=\"color: #00af00; text-decoration-color: #00af00\">8,256</span> │\n",
              "├──────────────────────────────────────┼─────────────────────────────┼─────────────────┤\n",
              "│ Output (<span style=\"color: #0087ff; text-decoration-color: #0087ff\">Dense</span>)                       │ (<span style=\"color: #00d7ff; text-decoration-color: #00d7ff\">None</span>, <span style=\"color: #00af00; text-decoration-color: #00af00\">1</span>)                   │              <span style=\"color: #00af00; text-decoration-color: #00af00\">65</span> │\n",
              "└──────────────────────────────────────┴─────────────────────────────┴─────────────────┘\n",
              "</pre>\n"
            ]
          },
          "metadata": {}
        },
        {
          "output_type": "display_data",
          "data": {
            "text/plain": [
              "\u001b[1m Total params: \u001b[0m\u001b[38;5;34m10,113\u001b[0m (39.50 KB)\n"
            ],
            "text/html": [
              "<pre style=\"white-space:pre;overflow-x:auto;line-height:normal;font-family:Menlo,'DejaVu Sans Mono',consolas,'Courier New',monospace\"><span style=\"font-weight: bold\"> Total params: </span><span style=\"color: #00af00; text-decoration-color: #00af00\">10,113</span> (39.50 KB)\n",
              "</pre>\n"
            ]
          },
          "metadata": {}
        },
        {
          "output_type": "display_data",
          "data": {
            "text/plain": [
              "\u001b[1m Trainable params: \u001b[0m\u001b[38;5;34m10,113\u001b[0m (39.50 KB)\n"
            ],
            "text/html": [
              "<pre style=\"white-space:pre;overflow-x:auto;line-height:normal;font-family:Menlo,'DejaVu Sans Mono',consolas,'Courier New',monospace\"><span style=\"font-weight: bold\"> Trainable params: </span><span style=\"color: #00af00; text-decoration-color: #00af00\">10,113</span> (39.50 KB)\n",
              "</pre>\n"
            ]
          },
          "metadata": {}
        },
        {
          "output_type": "display_data",
          "data": {
            "text/plain": [
              "\u001b[1m Non-trainable params: \u001b[0m\u001b[38;5;34m0\u001b[0m (0.00 B)\n"
            ],
            "text/html": [
              "<pre style=\"white-space:pre;overflow-x:auto;line-height:normal;font-family:Menlo,'DejaVu Sans Mono',consolas,'Courier New',monospace\"><span style=\"font-weight: bold\"> Non-trainable params: </span><span style=\"color: #00af00; text-decoration-color: #00af00\">0</span> (0.00 B)\n",
              "</pre>\n"
            ]
          },
          "metadata": {}
        }
      ]
    },
    {
      "cell_type": "code",
      "source": [
        "from google.colab import drive\n",
        "drive.mount('/content/drive')\n",
        "\n",
        "# os.makedirs(f'{run_dir}/models',   mode=0o750, exist_ok=True)\n",
        "# save_dir = f'{run_dir}/models/best_model.keras'\n",
        "save_dir = './best_model.keras'\n",
        "\n",
        "savemodel_callback = keras.callbacks.ModelCheckpoint(filepath=save_dir, monitor='val_mae', mode='max', save_best_only=True)"
      ],
      "metadata": {
        "colab": {
          "base_uri": "https://localhost:8080/"
        },
        "id": "rd6Bf0Z5aJZb",
        "outputId": "821a0b5d-e318-4638-ddff-e450fb72b9d6"
      },
      "execution_count": null,
      "outputs": [
        {
          "output_type": "stream",
          "name": "stdout",
          "text": [
            "Mounted at /content/drive\n"
          ]
        }
      ]
    },
    {
      "cell_type": "markdown",
      "source": [
        "## 5. Train the model and save the best model"
      ],
      "metadata": {
        "id": "0ZHBqqVPnMRJ"
      }
    },
    {
      "cell_type": "code",
      "source": [
        "history = model.fit(x_train,\n",
        "                    y_train,\n",
        "                    epochs          = 50,\n",
        "                    batch_size      = 10,\n",
        "                    verbose         = 1,\n",
        "                    validation_data = (x_test, y_test),\n",
        "                    callbacks       = [savemodel_callback])"
      ],
      "metadata": {
        "colab": {
          "base_uri": "https://localhost:8080/"
        },
        "id": "wbGjQ8huG454",
        "outputId": "b3fc15cc-c7c9-464f-8010-f60f0f62ddc3"
      },
      "execution_count": null,
      "outputs": [
        {
          "output_type": "stream",
          "name": "stdout",
          "text": [
            "Epoch 1/50\n",
            "\u001b[1m41/41\u001b[0m \u001b[32m━━━━━━━━━━━━━━━━━━━━\u001b[0m\u001b[37m\u001b[0m \u001b[1m4s\u001b[0m 100ms/step - loss: 465.4669 - mae: 19.2042 - mse: 465.4669 - val_loss: 174.9588 - val_mae: 10.5169 - val_mse: 174.9588\n",
            "Epoch 2/50\n",
            "\u001b[1m41/41\u001b[0m \u001b[32m━━━━━━━━━━━━━━━━━━━━\u001b[0m\u001b[37m\u001b[0m \u001b[1m0s\u001b[0m 7ms/step - loss: 116.2268 - mae: 8.1347 - mse: 116.2268 - val_loss: 99.9093 - val_mae: 7.3577 - val_mse: 99.9093\n",
            "Epoch 3/50\n",
            "\u001b[1m41/41\u001b[0m \u001b[32m━━━━━━━━━━━━━━━━━━━━\u001b[0m\u001b[37m\u001b[0m \u001b[1m0s\u001b[0m 8ms/step - loss: 90.1751 - mae: 6.7433 - mse: 90.1751 - val_loss: 84.7128 - val_mae: 6.8936 - val_mse: 84.7128\n",
            "Epoch 4/50\n",
            "\u001b[1m41/41\u001b[0m \u001b[32m━━━━━━━━━━━━━━━━━━━━\u001b[0m\u001b[37m\u001b[0m \u001b[1m0s\u001b[0m 8ms/step - loss: 83.7560 - mae: 6.5454 - mse: 83.7560 - val_loss: 74.4100 - val_mae: 6.0042 - val_mse: 74.4100\n",
            "Epoch 5/50\n",
            "\u001b[1m41/41\u001b[0m \u001b[32m━━━━━━━━━━━━━━━━━━━━\u001b[0m\u001b[37m\u001b[0m \u001b[1m0s\u001b[0m 12ms/step - loss: 67.9096 - mae: 5.5937 - mse: 67.9096 - val_loss: 69.4308 - val_mae: 6.5585 - val_mse: 69.4308\n",
            "Epoch 6/50\n",
            "\u001b[1m41/41\u001b[0m \u001b[32m━━━━━━━━━━━━━━━━━━━━\u001b[0m\u001b[37m\u001b[0m \u001b[1m0s\u001b[0m 12ms/step - loss: 71.7733 - mae: 6.2083 - mse: 71.7733 - val_loss: 62.2424 - val_mae: 5.6755 - val_mse: 62.2424\n",
            "Epoch 7/50\n",
            "\u001b[1m41/41\u001b[0m \u001b[32m━━━━━━━━━━━━━━━━━━━━\u001b[0m\u001b[37m\u001b[0m \u001b[1m1s\u001b[0m 17ms/step - loss: 66.5589 - mae: 5.7911 - mse: 66.5589 - val_loss: 60.4271 - val_mae: 5.5923 - val_mse: 60.4271\n",
            "Epoch 8/50\n",
            "\u001b[1m41/41\u001b[0m \u001b[32m━━━━━━━━━━━━━━━━━━━━\u001b[0m\u001b[37m\u001b[0m \u001b[1m1s\u001b[0m 31ms/step - loss: 52.1796 - mae: 4.9780 - mse: 52.1796 - val_loss: 58.3284 - val_mae: 5.7799 - val_mse: 58.3284\n",
            "Epoch 9/50\n",
            "\u001b[1m41/41\u001b[0m \u001b[32m━━━━━━━━━━━━━━━━━━━━\u001b[0m\u001b[37m\u001b[0m \u001b[1m1s\u001b[0m 23ms/step - loss: 59.4951 - mae: 5.6240 - mse: 59.4951 - val_loss: 57.5686 - val_mae: 5.6728 - val_mse: 57.5686\n",
            "Epoch 10/50\n",
            "\u001b[1m41/41\u001b[0m \u001b[32m━━━━━━━━━━━━━━━━━━━━\u001b[0m\u001b[37m\u001b[0m \u001b[1m2s\u001b[0m 47ms/step - loss: 63.2513 - mae: 5.7043 - mse: 63.2513 - val_loss: 57.5538 - val_mae: 5.8353 - val_mse: 57.5538\n",
            "Epoch 11/50\n",
            "\u001b[1m41/41\u001b[0m \u001b[32m━━━━━━━━━━━━━━━━━━━━\u001b[0m\u001b[37m\u001b[0m \u001b[1m2s\u001b[0m 44ms/step - loss: 59.5776 - mae: 5.4218 - mse: 59.5776 - val_loss: 56.6639 - val_mae: 5.5247 - val_mse: 56.6639\n",
            "Epoch 12/50\n",
            "\u001b[1m41/41\u001b[0m \u001b[32m━━━━━━━━━━━━━━━━━━━━\u001b[0m\u001b[37m\u001b[0m \u001b[1m2s\u001b[0m 37ms/step - loss: 75.7005 - mae: 5.9774 - mse: 75.7005 - val_loss: 57.8399 - val_mae: 5.5020 - val_mse: 57.8399\n",
            "Epoch 13/50\n",
            "\u001b[1m41/41\u001b[0m \u001b[32m━━━━━━━━━━━━━━━━━━━━\u001b[0m\u001b[37m\u001b[0m \u001b[1m1s\u001b[0m 28ms/step - loss: 64.1738 - mae: 5.6501 - mse: 64.1738 - val_loss: 55.1353 - val_mae: 5.5791 - val_mse: 55.1353\n",
            "Epoch 14/50\n",
            "\u001b[1m41/41\u001b[0m \u001b[32m━━━━━━━━━━━━━━━━━━━━\u001b[0m\u001b[37m\u001b[0m \u001b[1m1s\u001b[0m 16ms/step - loss: 63.0703 - mae: 5.4521 - mse: 63.0703 - val_loss: 55.0305 - val_mae: 5.5757 - val_mse: 55.0305\n",
            "Epoch 15/50\n",
            "\u001b[1m41/41\u001b[0m \u001b[32m━━━━━━━━━━━━━━━━━━━━\u001b[0m\u001b[37m\u001b[0m \u001b[1m1s\u001b[0m 17ms/step - loss: 62.0861 - mae: 5.3896 - mse: 62.0861 - val_loss: 55.5786 - val_mae: 5.5023 - val_mse: 55.5786\n",
            "Epoch 16/50\n",
            "\u001b[1m41/41\u001b[0m \u001b[32m━━━━━━━━━━━━━━━━━━━━\u001b[0m\u001b[37m\u001b[0m \u001b[1m1s\u001b[0m 16ms/step - loss: 61.0829 - mae: 5.3941 - mse: 61.0829 - val_loss: 57.1101 - val_mae: 5.4744 - val_mse: 57.1101\n",
            "Epoch 17/50\n",
            "\u001b[1m41/41\u001b[0m \u001b[32m━━━━━━━━━━━━━━━━━━━━\u001b[0m\u001b[37m\u001b[0m \u001b[1m1s\u001b[0m 20ms/step - loss: 64.8976 - mae: 5.5904 - mse: 64.8976 - val_loss: 58.3268 - val_mae: 5.4637 - val_mse: 58.3268\n",
            "Epoch 18/50\n",
            "\u001b[1m41/41\u001b[0m \u001b[32m━━━━━━━━━━━━━━━━━━━━\u001b[0m\u001b[37m\u001b[0m \u001b[1m1s\u001b[0m 20ms/step - loss: 67.1966 - mae: 5.4634 - mse: 67.1966 - val_loss: 54.4833 - val_mae: 5.5789 - val_mse: 54.4833\n",
            "Epoch 19/50\n",
            "\u001b[1m41/41\u001b[0m \u001b[32m━━━━━━━━━━━━━━━━━━━━\u001b[0m\u001b[37m\u001b[0m \u001b[1m1s\u001b[0m 20ms/step - loss: 62.9445 - mae: 5.3718 - mse: 62.9445 - val_loss: 54.9187 - val_mae: 5.4532 - val_mse: 54.9187\n",
            "Epoch 20/50\n",
            "\u001b[1m41/41\u001b[0m \u001b[32m━━━━━━━━━━━━━━━━━━━━\u001b[0m\u001b[37m\u001b[0m \u001b[1m1s\u001b[0m 15ms/step - loss: 45.0807 - mae: 4.6329 - mse: 45.0807 - val_loss: 55.2500 - val_mae: 5.7072 - val_mse: 55.2500\n",
            "Epoch 21/50\n",
            "\u001b[1m41/41\u001b[0m \u001b[32m━━━━━━━━━━━━━━━━━━━━\u001b[0m\u001b[37m\u001b[0m \u001b[1m0s\u001b[0m 12ms/step - loss: 59.0500 - mae: 5.3018 - mse: 59.0500 - val_loss: 54.1101 - val_mae: 5.4406 - val_mse: 54.1101\n",
            "Epoch 22/50\n",
            "\u001b[1m41/41\u001b[0m \u001b[32m━━━━━━━━━━━━━━━━━━━━\u001b[0m\u001b[37m\u001b[0m \u001b[1m1s\u001b[0m 14ms/step - loss: 52.4780 - mae: 4.8048 - mse: 52.4780 - val_loss: 54.1030 - val_mae: 5.5724 - val_mse: 54.1030\n",
            "Epoch 23/50\n",
            "\u001b[1m41/41\u001b[0m \u001b[32m━━━━━━━━━━━━━━━━━━━━\u001b[0m\u001b[37m\u001b[0m \u001b[1m1s\u001b[0m 20ms/step - loss: 57.2078 - mae: 5.0861 - mse: 57.2078 - val_loss: 55.4938 - val_mae: 5.3853 - val_mse: 55.4938\n",
            "Epoch 24/50\n",
            "\u001b[1m41/41\u001b[0m \u001b[32m━━━━━━━━━━━━━━━━━━━━\u001b[0m\u001b[37m\u001b[0m \u001b[1m1s\u001b[0m 23ms/step - loss: 59.5064 - mae: 5.3447 - mse: 59.5064 - val_loss: 53.3572 - val_mae: 5.4338 - val_mse: 53.3572\n",
            "Epoch 25/50\n",
            "\u001b[1m41/41\u001b[0m \u001b[32m━━━━━━━━━━━━━━━━━━━━\u001b[0m\u001b[37m\u001b[0m \u001b[1m1s\u001b[0m 14ms/step - loss: 59.7861 - mae: 5.3215 - mse: 59.7861 - val_loss: 53.5176 - val_mae: 5.5070 - val_mse: 53.5176\n",
            "Epoch 26/50\n",
            "\u001b[1m41/41\u001b[0m \u001b[32m━━━━━━━━━━━━━━━━━━━━\u001b[0m\u001b[37m\u001b[0m \u001b[1m1s\u001b[0m 19ms/step - loss: 52.7349 - mae: 5.0394 - mse: 52.7349 - val_loss: 54.6756 - val_mae: 5.3615 - val_mse: 54.6756\n",
            "Epoch 27/50\n",
            "\u001b[1m41/41\u001b[0m \u001b[32m━━━━━━━━━━━━━━━━━━━━\u001b[0m\u001b[37m\u001b[0m \u001b[1m1s\u001b[0m 20ms/step - loss: 57.6657 - mae: 5.2118 - mse: 57.6657 - val_loss: 53.7088 - val_mae: 5.3637 - val_mse: 53.7088\n",
            "Epoch 28/50\n",
            "\u001b[1m41/41\u001b[0m \u001b[32m━━━━━━━━━━━━━━━━━━━━\u001b[0m\u001b[37m\u001b[0m \u001b[1m2s\u001b[0m 37ms/step - loss: 64.6788 - mae: 5.4483 - mse: 64.6788 - val_loss: 52.6407 - val_mae: 5.3971 - val_mse: 52.6407\n",
            "Epoch 29/50\n",
            "\u001b[1m41/41\u001b[0m \u001b[32m━━━━━━━━━━━━━━━━━━━━\u001b[0m\u001b[37m\u001b[0m \u001b[1m1s\u001b[0m 30ms/step - loss: 45.7460 - mae: 4.7507 - mse: 45.7460 - val_loss: 52.5650 - val_mae: 5.3796 - val_mse: 52.5650\n",
            "Epoch 30/50\n",
            "\u001b[1m41/41\u001b[0m \u001b[32m━━━━━━━━━━━━━━━━━━━━\u001b[0m\u001b[37m\u001b[0m \u001b[1m1s\u001b[0m 22ms/step - loss: 47.5153 - mae: 4.7528 - mse: 47.5153 - val_loss: 54.2871 - val_mae: 5.3199 - val_mse: 54.2871\n",
            "Epoch 31/50\n",
            "\u001b[1m41/41\u001b[0m \u001b[32m━━━━━━━━━━━━━━━━━━━━\u001b[0m\u001b[37m\u001b[0m \u001b[1m1s\u001b[0m 13ms/step - loss: 53.3438 - mae: 4.9642 - mse: 53.3438 - val_loss: 60.2586 - val_mae: 5.4409 - val_mse: 60.2586\n",
            "Epoch 32/50\n",
            "\u001b[1m41/41\u001b[0m \u001b[32m━━━━━━━━━━━━━━━━━━━━\u001b[0m\u001b[37m\u001b[0m \u001b[1m0s\u001b[0m 12ms/step - loss: 51.4617 - mae: 4.7450 - mse: 51.4617 - val_loss: 63.2985 - val_mae: 5.5477 - val_mse: 63.2985\n",
            "Epoch 33/50\n",
            "\u001b[1m41/41\u001b[0m \u001b[32m━━━━━━━━━━━━━━━━━━━━\u001b[0m\u001b[37m\u001b[0m \u001b[1m0s\u001b[0m 12ms/step - loss: 53.9732 - mae: 4.8970 - mse: 53.9732 - val_loss: 53.9215 - val_mae: 5.2982 - val_mse: 53.9215\n",
            "Epoch 34/50\n",
            "\u001b[1m41/41\u001b[0m \u001b[32m━━━━━━━━━━━━━━━━━━━━\u001b[0m\u001b[37m\u001b[0m \u001b[1m0s\u001b[0m 7ms/step - loss: 63.4513 - mae: 5.4037 - mse: 63.4513 - val_loss: 53.7285 - val_mae: 5.2919 - val_mse: 53.7285\n",
            "Epoch 35/50\n",
            "\u001b[1m41/41\u001b[0m \u001b[32m━━━━━━━━━━━━━━━━━━━━\u001b[0m\u001b[37m\u001b[0m \u001b[1m0s\u001b[0m 8ms/step - loss: 68.3133 - mae: 5.6069 - mse: 68.3133 - val_loss: 53.2347 - val_mae: 5.2868 - val_mse: 53.2347\n",
            "Epoch 36/50\n",
            "\u001b[1m41/41\u001b[0m \u001b[32m━━━━━━━━━━━━━━━━━━━━\u001b[0m\u001b[37m\u001b[0m \u001b[1m0s\u001b[0m 8ms/step - loss: 64.2690 - mae: 5.2793 - mse: 64.2690 - val_loss: 57.9706 - val_mae: 5.3762 - val_mse: 57.9706\n",
            "Epoch 37/50\n",
            "\u001b[1m41/41\u001b[0m \u001b[32m━━━━━━━━━━━━━━━━━━━━\u001b[0m\u001b[37m\u001b[0m \u001b[1m0s\u001b[0m 7ms/step - loss: 56.3609 - mae: 5.0399 - mse: 56.3609 - val_loss: 53.2525 - val_mae: 5.2753 - val_mse: 53.2525\n",
            "Epoch 38/50\n",
            "\u001b[1m41/41\u001b[0m \u001b[32m━━━━━━━━━━━━━━━━━━━━\u001b[0m\u001b[37m\u001b[0m \u001b[1m0s\u001b[0m 8ms/step - loss: 44.1307 - mae: 4.5531 - mse: 44.1307 - val_loss: 52.0180 - val_mae: 5.4463 - val_mse: 52.0180\n",
            "Epoch 39/50\n",
            "\u001b[1m41/41\u001b[0m \u001b[32m━━━━━━━━━━━━━━━━━━━━\u001b[0m\u001b[37m\u001b[0m \u001b[1m0s\u001b[0m 7ms/step - loss: 55.5641 - mae: 5.2036 - mse: 55.5641 - val_loss: 55.5313 - val_mae: 5.3070 - val_mse: 55.5313\n",
            "Epoch 40/50\n",
            "\u001b[1m41/41\u001b[0m \u001b[32m━━━━━━━━━━━━━━━━━━━━\u001b[0m\u001b[37m\u001b[0m \u001b[1m0s\u001b[0m 7ms/step - loss: 42.4590 - mae: 4.5381 - mse: 42.4590 - val_loss: 51.6846 - val_mae: 5.2506 - val_mse: 51.6846\n",
            "Epoch 41/50\n",
            "\u001b[1m41/41\u001b[0m \u001b[32m━━━━━━━━━━━━━━━━━━━━\u001b[0m\u001b[37m\u001b[0m \u001b[1m0s\u001b[0m 8ms/step - loss: 51.5683 - mae: 4.9506 - mse: 51.5683 - val_loss: 52.9731 - val_mae: 5.2456 - val_mse: 52.9731\n",
            "Epoch 42/50\n",
            "\u001b[1m41/41\u001b[0m \u001b[32m━━━━━━━━━━━━━━━━━━━━\u001b[0m\u001b[37m\u001b[0m \u001b[1m0s\u001b[0m 7ms/step - loss: 47.5468 - mae: 4.7275 - mse: 47.5468 - val_loss: 56.0693 - val_mae: 5.7635 - val_mse: 56.0693\n",
            "Epoch 43/50\n",
            "\u001b[1m41/41\u001b[0m \u001b[32m━━━━━━━━━━━━━━━━━━━━\u001b[0m\u001b[37m\u001b[0m \u001b[1m0s\u001b[0m 7ms/step - loss: 60.5563 - mae: 5.5129 - mse: 60.5563 - val_loss: 51.9547 - val_mae: 5.4094 - val_mse: 51.9547\n",
            "Epoch 44/50\n",
            "\u001b[1m41/41\u001b[0m \u001b[32m━━━━━━━━━━━━━━━━━━━━\u001b[0m\u001b[37m\u001b[0m \u001b[1m0s\u001b[0m 9ms/step - loss: 53.7909 - mae: 4.8847 - mse: 53.7909 - val_loss: 50.6753 - val_mae: 5.2441 - val_mse: 50.6753\n",
            "Epoch 45/50\n",
            "\u001b[1m41/41\u001b[0m \u001b[32m━━━━━━━━━━━━━━━━━━━━\u001b[0m\u001b[37m\u001b[0m \u001b[1m0s\u001b[0m 8ms/step - loss: 63.0609 - mae: 5.2249 - mse: 63.0609 - val_loss: 53.3192 - val_mae: 5.2304 - val_mse: 53.3192\n",
            "Epoch 46/50\n",
            "\u001b[1m41/41\u001b[0m \u001b[32m━━━━━━━━━━━━━━━━━━━━\u001b[0m\u001b[37m\u001b[0m \u001b[1m0s\u001b[0m 8ms/step - loss: 51.6799 - mae: 4.8358 - mse: 51.6799 - val_loss: 52.8327 - val_mae: 5.2226 - val_mse: 52.8327\n",
            "Epoch 47/50\n",
            "\u001b[1m41/41\u001b[0m \u001b[32m━━━━━━━━━━━━━━━━━━━━\u001b[0m\u001b[37m\u001b[0m \u001b[1m0s\u001b[0m 8ms/step - loss: 61.1666 - mae: 5.0379 - mse: 61.1666 - val_loss: 53.1025 - val_mae: 5.2266 - val_mse: 53.1025\n",
            "Epoch 48/50\n",
            "\u001b[1m41/41\u001b[0m \u001b[32m━━━━━━━━━━━━━━━━━━━━\u001b[0m\u001b[37m\u001b[0m \u001b[1m0s\u001b[0m 7ms/step - loss: 60.8731 - mae: 5.1940 - mse: 60.8731 - val_loss: 50.6733 - val_mae: 5.1990 - val_mse: 50.6733\n",
            "Epoch 49/50\n",
            "\u001b[1m41/41\u001b[0m \u001b[32m━━━━━━━━━━━━━━━━━━━━\u001b[0m\u001b[37m\u001b[0m \u001b[1m0s\u001b[0m 7ms/step - loss: 43.3270 - mae: 4.3773 - mse: 43.3270 - val_loss: 50.8631 - val_mae: 5.1831 - val_mse: 50.8631\n",
            "Epoch 50/50\n",
            "\u001b[1m41/41\u001b[0m \u001b[32m━━━━━━━━━━━━━━━━━━━━\u001b[0m\u001b[37m\u001b[0m \u001b[1m0s\u001b[0m 8ms/step - loss: 43.5604 - mae: 4.6311 - mse: 43.5604 - val_loss: 51.2012 - val_mae: 5.3555 - val_mse: 51.2012\n"
          ]
        }
      ]
    },
    {
      "cell_type": "code",
      "source": [
        "%ls"
      ],
      "metadata": {
        "colab": {
          "base_uri": "https://localhost:8080/"
        },
        "id": "TzKvay9qdmJT",
        "outputId": "d3898f45-4210-40b5-dc50-a8c9e85f34a3"
      },
      "execution_count": null,
      "outputs": [
        {
          "output_type": "stream",
          "name": "stdout",
          "text": [
            "best_model.keras  \u001b[0m\u001b[01;34mdrive\u001b[0m/  \u001b[01;34msample_data\u001b[0m/\n"
          ]
        }
      ]
    },
    {
      "cell_type": "code",
      "source": [
        "#!cp -r \"/content/best_model.keras\" \"/content/drive/MyDrive/PyDayBCN2024/Colab Notebooks/\""
      ],
      "metadata": {
        "id": "ljx6MRKObTX9"
      },
      "execution_count": null,
      "outputs": []
    },
    {
      "cell_type": "markdown",
      "source": [
        "## 6. Reload the model"
      ],
      "metadata": {
        "id": "yUbXRGtrnbwv"
      }
    },
    {
      "cell_type": "code",
      "source": [
        "loaded_model = keras.models.load_model('./best_model.keras')\n",
        "loaded_model.summary()\n",
        "print(\"Loaded.\")"
      ],
      "metadata": {
        "colab": {
          "base_uri": "https://localhost:8080/",
          "height": 258
        },
        "id": "ZLLz0J0EchD7",
        "outputId": "4a41137f-a46c-45a3-dc52-32085146ac71"
      },
      "execution_count": null,
      "outputs": [
        {
          "output_type": "display_data",
          "data": {
            "text/plain": [
              "\u001b[1mModel: \"sequential\"\u001b[0m\n"
            ],
            "text/html": [
              "<pre style=\"white-space:pre;overflow-x:auto;line-height:normal;font-family:Menlo,'DejaVu Sans Mono',consolas,'Courier New',monospace\"><span style=\"font-weight: bold\">Model: \"sequential\"</span>\n",
              "</pre>\n"
            ]
          },
          "metadata": {}
        },
        {
          "output_type": "display_data",
          "data": {
            "text/plain": [
              "┏━━━━━━━━━━━━━━━━━━━━━━━━━━━━━━━━━━━━━━┳━━━━━━━━━━━━━━━━━━━━━━━━━━━━━┳━━━━━━━━━━━━━━━━━┓\n",
              "┃\u001b[1m \u001b[0m\u001b[1mLayer (type)                        \u001b[0m\u001b[1m \u001b[0m┃\u001b[1m \u001b[0m\u001b[1mOutput Shape               \u001b[0m\u001b[1m \u001b[0m┃\u001b[1m \u001b[0m\u001b[1m        Param #\u001b[0m\u001b[1m \u001b[0m┃\n",
              "┡━━━━━━━━━━━━━━━━━━━━━━━━━━━━━━━━━━━━━━╇━━━━━━━━━━━━━━━━━━━━━━━━━━━━━╇━━━━━━━━━━━━━━━━━┩\n",
              "│ Dense_n1 (\u001b[38;5;33mDense\u001b[0m)                     │ (\u001b[38;5;45mNone\u001b[0m, \u001b[38;5;34m128\u001b[0m)                 │           \u001b[38;5;34m1,792\u001b[0m │\n",
              "├──────────────────────────────────────┼─────────────────────────────┼─────────────────┤\n",
              "│ Dense_n2 (\u001b[38;5;33mDense\u001b[0m)                     │ (\u001b[38;5;45mNone\u001b[0m, \u001b[38;5;34m64\u001b[0m)                  │           \u001b[38;5;34m8,256\u001b[0m │\n",
              "├──────────────────────────────────────┼─────────────────────────────┼─────────────────┤\n",
              "│ Output (\u001b[38;5;33mDense\u001b[0m)                       │ (\u001b[38;5;45mNone\u001b[0m, \u001b[38;5;34m1\u001b[0m)                   │              \u001b[38;5;34m65\u001b[0m │\n",
              "└──────────────────────────────────────┴─────────────────────────────┴─────────────────┘\n"
            ],
            "text/html": [
              "<pre style=\"white-space:pre;overflow-x:auto;line-height:normal;font-family:Menlo,'DejaVu Sans Mono',consolas,'Courier New',monospace\">┏━━━━━━━━━━━━━━━━━━━━━━━━━━━━━━━━━━━━━━┳━━━━━━━━━━━━━━━━━━━━━━━━━━━━━┳━━━━━━━━━━━━━━━━━┓\n",
              "┃<span style=\"font-weight: bold\"> Layer (type)                         </span>┃<span style=\"font-weight: bold\"> Output Shape                </span>┃<span style=\"font-weight: bold\">         Param # </span>┃\n",
              "┡━━━━━━━━━━━━━━━━━━━━━━━━━━━━━━━━━━━━━━╇━━━━━━━━━━━━━━━━━━━━━━━━━━━━━╇━━━━━━━━━━━━━━━━━┩\n",
              "│ Dense_n1 (<span style=\"color: #0087ff; text-decoration-color: #0087ff\">Dense</span>)                     │ (<span style=\"color: #00d7ff; text-decoration-color: #00d7ff\">None</span>, <span style=\"color: #00af00; text-decoration-color: #00af00\">128</span>)                 │           <span style=\"color: #00af00; text-decoration-color: #00af00\">1,792</span> │\n",
              "├──────────────────────────────────────┼─────────────────────────────┼─────────────────┤\n",
              "│ Dense_n2 (<span style=\"color: #0087ff; text-decoration-color: #0087ff\">Dense</span>)                     │ (<span style=\"color: #00d7ff; text-decoration-color: #00d7ff\">None</span>, <span style=\"color: #00af00; text-decoration-color: #00af00\">64</span>)                  │           <span style=\"color: #00af00; text-decoration-color: #00af00\">8,256</span> │\n",
              "├──────────────────────────────────────┼─────────────────────────────┼─────────────────┤\n",
              "│ Output (<span style=\"color: #0087ff; text-decoration-color: #0087ff\">Dense</span>)                       │ (<span style=\"color: #00d7ff; text-decoration-color: #00d7ff\">None</span>, <span style=\"color: #00af00; text-decoration-color: #00af00\">1</span>)                   │              <span style=\"color: #00af00; text-decoration-color: #00af00\">65</span> │\n",
              "└──────────────────────────────────────┴─────────────────────────────┴─────────────────┘\n",
              "</pre>\n"
            ]
          },
          "metadata": {}
        },
        {
          "output_type": "display_data",
          "data": {
            "text/plain": [
              "\u001b[1m Total params: \u001b[0m\u001b[38;5;34m20,228\u001b[0m (79.02 KB)\n"
            ],
            "text/html": [
              "<pre style=\"white-space:pre;overflow-x:auto;line-height:normal;font-family:Menlo,'DejaVu Sans Mono',consolas,'Courier New',monospace\"><span style=\"font-weight: bold\"> Total params: </span><span style=\"color: #00af00; text-decoration-color: #00af00\">20,228</span> (79.02 KB)\n",
              "</pre>\n"
            ]
          },
          "metadata": {}
        },
        {
          "output_type": "display_data",
          "data": {
            "text/plain": [
              "\u001b[1m Trainable params: \u001b[0m\u001b[38;5;34m10,113\u001b[0m (39.50 KB)\n"
            ],
            "text/html": [
              "<pre style=\"white-space:pre;overflow-x:auto;line-height:normal;font-family:Menlo,'DejaVu Sans Mono',consolas,'Courier New',monospace\"><span style=\"font-weight: bold\"> Trainable params: </span><span style=\"color: #00af00; text-decoration-color: #00af00\">10,113</span> (39.50 KB)\n",
              "</pre>\n"
            ]
          },
          "metadata": {}
        },
        {
          "output_type": "display_data",
          "data": {
            "text/plain": [
              "\u001b[1m Non-trainable params: \u001b[0m\u001b[38;5;34m0\u001b[0m (0.00 B)\n"
            ],
            "text/html": [
              "<pre style=\"white-space:pre;overflow-x:auto;line-height:normal;font-family:Menlo,'DejaVu Sans Mono',consolas,'Courier New',monospace\"><span style=\"font-weight: bold\"> Non-trainable params: </span><span style=\"color: #00af00; text-decoration-color: #00af00\">0</span> (0.00 B)\n",
              "</pre>\n"
            ]
          },
          "metadata": {}
        },
        {
          "output_type": "display_data",
          "data": {
            "text/plain": [
              "\u001b[1m Optimizer params: \u001b[0m\u001b[38;5;34m10,115\u001b[0m (39.51 KB)\n"
            ],
            "text/html": [
              "<pre style=\"white-space:pre;overflow-x:auto;line-height:normal;font-family:Menlo,'DejaVu Sans Mono',consolas,'Courier New',monospace\"><span style=\"font-weight: bold\"> Optimizer params: </span><span style=\"color: #00af00; text-decoration-color: #00af00\">10,115</span> (39.51 KB)\n",
              "</pre>\n"
            ]
          },
          "metadata": {}
        },
        {
          "output_type": "stream",
          "name": "stdout",
          "text": [
            "Loaded.\n"
          ]
        }
      ]
    },
    {
      "cell_type": "markdown",
      "source": [
        "## 7. Model evaluation"
      ],
      "metadata": {
        "id": "qhYaUlnOnW-g"
      }
    },
    {
      "cell_type": "code",
      "source": [
        "print(\"min( val_mae ) : {:.4f}\".format( min(history.history[\"val_mae\"]) ) )"
      ],
      "metadata": {
        "colab": {
          "base_uri": "https://localhost:8080/"
        },
        "id": "FRDgAgc6caVM",
        "outputId": "c6649220-a851-4a09-e397-fb78f503486d"
      },
      "execution_count": null,
      "outputs": [
        {
          "output_type": "stream",
          "name": "stdout",
          "text": [
            "min( val_mae ) : 5.1831\n"
          ]
        }
      ]
    },
    {
      "cell_type": "code",
      "source": [
        "score = model.evaluate(x_test, y_test, verbose=0)\n",
        "\n",
        "print('x_test / loss      : {:5.4f}'.format(score[0]))\n",
        "print('x_test / mae       : {:5.4f}'.format(score[1]))\n",
        "print('x_test / mse       : {:5.4f}'.format(score[2]))"
      ],
      "metadata": {
        "colab": {
          "base_uri": "https://localhost:8080/"
        },
        "id": "ygtEsXuhG4ls",
        "outputId": "2f07fe2b-cd65-48a9-855c-6790e29821b7"
      },
      "execution_count": null,
      "outputs": [
        {
          "output_type": "stream",
          "name": "stdout",
          "text": [
            "x_test / loss      : 51.2012\n",
            "x_test / mae       : 5.3555\n",
            "x_test / mse       : 51.2012\n"
          ]
        }
      ]
    },
    {
      "cell_type": "code",
      "source": [
        "# Visualize model training history\n",
        "\n",
        "plt.plot(history.history['loss'], label='Training loss')\n",
        "plt.plot(history.history['val_loss'], label='Validation loss')\n",
        "plt.title('DNN training / validation loss values')\n",
        "plt.ylabel('Loss value')\n",
        "plt.xlabel('Epoch')\n",
        "plt.legend(loc=\"upper left\")\n",
        "plt.show()"
      ],
      "metadata": {
        "colab": {
          "base_uri": "https://localhost:8080/",
          "height": 472
        },
        "id": "Zjwr5GqnjQ3X",
        "outputId": "1cf3333f-04a7-43e8-d09c-17fcc33d9e7e"
      },
      "execution_count": null,
      "outputs": [
        {
          "output_type": "display_data",
          "data": {
            "text/plain": [
              "<Figure size 640x480 with 1 Axes>"
            ],
            "image/png": "[encoded data removed]"
          },
          "metadata": {}
        }
      ]
    },
    {
      "cell_type": "markdown",
      "source": [
        "## 8. Make a new prediction"
      ],
      "metadata": {
        "id": "aH_X5yQBn_jh"
      }
    },
    {
      "cell_type": "code",
      "source": [
        "my_data = [ 1.26425925, -0.48522739,  1.0436489 , -0.23112788,  1.37120745,\n",
        "           -2.14308942,  1.13489104, -1.06802005,  1.71189006,  1.57042287,\n",
        "            0.77859951,  0.14769795,  2.7585581 ]\n",
        "real_price = 10.4\n",
        "\n",
        "my_data=np.array(my_data).reshape(1,13)"
      ],
      "metadata": {
        "id": "YL_bL8cvqwc0"
      },
      "execution_count": null,
      "outputs": []
    },
    {
      "cell_type": "code",
      "source": [
        "predictions = loaded_model.predict(my_data, verbose=0)\n",
        "print(\"Prediction : {:.2f} K$\".format(predictions[0][0]))\n",
        "print(\"Reality    : {:.2f} K$\".format(real_price))"
      ],
      "metadata": {
        "colab": {
          "base_uri": "https://localhost:8080/"
        },
        "id": "-bcpnpkUqzbL",
        "outputId": "f616dd7e-dfc1-4d11-f0bc-9786b1180907"
      },
      "execution_count": null,
      "outputs": [
        {
          "output_type": "stream",
          "name": "stdout",
          "text": [
            "Prediction : 3.08 K$\n",
            "Reality    : 10.40 K$\n"
          ]
        }
      ]
    },
    {
      "cell_type": "markdown",
      "source": [
        "## 9. Prediction using Numpy"
      ],
      "metadata": {
        "id": "XJJ_xnKLoaw4"
      }
    },
    {
      "cell_type": "code",
      "source": [
        "# Save the trained model to CSV files\n",
        "model = keras.models.load_model(f'./best_model.keras')\n",
        "\n",
        "# Iterate over each layer's weights and save them to CSV\n",
        "for i, layer in enumerate(model.layers):\n",
        "    weights = layer.get_weights()  # This returns a list of NumPy arrays (weights and biases)\n",
        "\n",
        "    if weights:  # Some layers like activation don't have weights\n",
        "        # Save weights and biases for each layer in separate CSV files\n",
        "        np.savetxt(f'layer_{i}_weights.csv', weights[0], delimiter=\",\")\n",
        "        if len(weights) > 1:\n",
        "            np.savetxt(f'layer_{i}_biases.csv', weights[1], delimiter=\",\")"
      ],
      "metadata": {
        "id": "bh_mRKgYbm7m"
      },
      "execution_count": null,
      "outputs": []
    },
    {
      "cell_type": "code",
      "source": [
        "# Extracting model configuration (architecture)\n",
        "model_config = model.get_config()  # This contains the architecture of the model\n",
        "#model_config"
      ],
      "metadata": {
        "id": "jHY3RekqppqG"
      },
      "execution_count": null,
      "outputs": []
    },
    {
      "cell_type": "code",
      "source": [
        "# Define activation functions\n",
        "\n",
        "# ReLU activation\n",
        "def relu(x):\n",
        "    return np.maximum(0, x)\n",
        "\n",
        "# ELU activation\n",
        "def elu(x, alpha=1.0):\n",
        "    return np.where(x >= 0, x, alpha * (np.exp(x) - 1))\n",
        "\n",
        "# Load weights and biases\n",
        "dense_n1_weights = np.loadtxt('layer_0_weights.csv', delimiter=',')\n",
        "dense_n1_biases = np.loadtxt('layer_0_biases.csv', delimiter=',')\n",
        "\n",
        "dense_n2_weights = np.loadtxt('layer_1_weights.csv', delimiter=',')\n",
        "dense_n2_biases = np.loadtxt('layer_1_biases.csv', delimiter=',')\n",
        "\n",
        "output_weights = np.loadtxt('layer_2_weights.csv', delimiter=',')\n",
        "output_biases = np.loadtxt('layer_2_biases.csv', delimiter=',')\n",
        "\n",
        "# Define a sample input (replace with your real input data)\n",
        "new_data_point = my_data\n",
        "# Step-by-step forward propagation using the weights and biases\n",
        "\n",
        "# 1. First hidden layer (Dense_n1) with ReLU activation\n",
        "z1 = np.dot(new_data_point, dense_n1_weights) + dense_n1_biases\n",
        "a1 = relu(z1)\n",
        "\n",
        "# 2. Second hidden layer (Dense_n2) with ReLU activation\n",
        "z2 = np.dot(a1, dense_n2_weights) + dense_n2_biases\n",
        "a2 = relu(z2)\n",
        "\n",
        "# 3. Output layer (no activation, regression task)\n",
        "output = np.dot(a2, output_weights) + output_biases\n",
        "\n",
        "print(\"Numpy DNN Prediction : {:.2f} K$   Reality : {:.2f} K$\".format(output[0], real_price))"
      ],
      "metadata": {
        "colab": {
          "base_uri": "https://localhost:8080/"
        },
        "id": "6_15QdO2qGGP",
        "outputId": "2c1aab7a-0161-4129-e2f9-34157645941e"
      },
      "execution_count": null,
      "outputs": [
        {
          "output_type": "stream",
          "name": "stdout",
          "text": [
            "Numpy DNN Prediction : 3.08 K$   Reality : 10.40 K$\n"
          ]
        }
      ]
    },
    {
      "cell_type": "code",
      "source": [],
      "metadata": {
        "id": "u0Y1MdFmqXFA"
      },
      "execution_count": null,
      "outputs": []
    }
  ]
}